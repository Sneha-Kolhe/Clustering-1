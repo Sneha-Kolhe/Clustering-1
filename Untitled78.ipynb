{
 "cells": [
  {
   "cell_type": "markdown",
   "id": "59a0ffed-12f8-4c54-bc61-a6b25c567b20",
   "metadata": {},
   "source": [
    "## Q1. What are the different types of clustering algorithms, and how do they differ in terms of their approach\n",
    "and underlying assumptions?"
   ]
  },
  {
   "cell_type": "code",
   "execution_count": null,
   "id": "81294b1f-5192-41f2-9fbe-4bd29e32874e",
   "metadata": {},
   "outputs": [],
   "source": [
    "Partitioning Algorithms:\n",
    "\n",
    "Partitioning algorithms aim to partition the dataset into a predefined number of clusters. Examples include K-Means, K-Medoids (PAM), and CLARANS.\n",
    "K-Means: It partitions the dataset into 'k' clusters by minimizing the within-cluster variance. It assigns each data point to the nearest cluster centroid.\n",
    "K-Medoids (PAM): Similar to K-Means but uses medoids (actual data points) as cluster representatives instead of centroids. It is more robust to outliers.\n",
    "CLARANS: An improved version of K-Medoids that uses a sampling-based approach to find clusters efficiently in large datasets.\n",
    "Hierarchical Algorithms:\n",
    "\n",
    "Hierarchical clustering algorithms build a hierarchy of clusters either top-down (divisive) or bottom-up (agglomerative). Examples include Agglomerative Hierarchical Clustering and Divisive Hierarchical Clustering.\n",
    "Agglomerative Hierarchical Clustering: It starts with each data point as a separate cluster and iteratively merges the closest clusters until only one cluster remains.\n",
    "Divisive Hierarchical Clustering: It starts with all data points in one cluster and recursively divides clusters until each data point is in its own cluster.\n",
    "Density-Based Algorithms:\n",
    "\n",
    "Density-based algorithms group together data points that are closely packed in high-density regions. Examples include DBSCAN (Density-Based Spatial Clustering of Applications with Noise) and OPTICS (Ordering Points To Identify the Clustering Structure).\n",
    "DBSCAN: It defines clusters as contiguous regions of high density separated by regions of low density. It is robust to outliers and can discover clusters of arbitrary shape.\n",
    "OPTICS: It extends DBSCAN by producing a reachability plot, which provides a more detailed view of the clustering structure and allows for flexible parameter settings.\n",
    "Distribution-Based Algorithms:\n",
    "\n",
    "Distribution-based algorithms assume that the data points in each cluster are generated from a particular probability distribution. Examples include Gaussian Mixture Models (GMM) and Expectation-Maximization (EM) algorithm.\n",
    "Gaussian Mixture Models (GMM): It models the data as a mixture of several Gaussian distributions and estimates the parameters of these distributions to fit the data.\n",
    "Expectation-Maximization (EM) algorithm: It iteratively estimates the parameters of a statistical model, such as GMM, by maximizing the likelihood of the observed data.\n",
    "Graph-Based Algorithms:\n",
    "\n",
    "Graph-based algorithms model the dataset as a graph, where data points are represented as nodes and edges represent relationships or similarities between data points. Examples include Spectral Clustering and Markov Clustering Algorithm (MCL).\n",
    "Spectral Clustering: It uses the eigenvectors of the similarity matrix of the dataset to partition the data into clusters. It is effective for non-convex clusters and high-dimensional data.\n",
    "MCL: It simulates random walks on a graph to identify clusters based on the flow of information between nodes."
   ]
  },
  {
   "cell_type": "markdown",
   "id": "648a4206-900f-4bb5-a4ed-73b910ebd49c",
   "metadata": {},
   "source": [
    "## Q2.What is K-means clustering, and how does it work?"
   ]
  },
  {
   "cell_type": "code",
   "execution_count": null,
   "id": "bf53c558-afad-4ec6-b7f0-3cfbf4f4ab17",
   "metadata": {},
   "outputs": [],
   "source": []
  }
 ],
 "metadata": {
  "kernelspec": {
   "display_name": "Python 3 (ipykernel)",
   "language": "python",
   "name": "python3"
  },
  "language_info": {
   "codemirror_mode": {
    "name": "ipython",
    "version": 3
   },
   "file_extension": ".py",
   "mimetype": "text/x-python",
   "name": "python",
   "nbconvert_exporter": "python",
   "pygments_lexer": "ipython3",
   "version": "3.10.8"
  }
 },
 "nbformat": 4,
 "nbformat_minor": 5
}
